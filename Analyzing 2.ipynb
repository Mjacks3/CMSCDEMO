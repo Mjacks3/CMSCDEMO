{
 "cells": [
  {
   "cell_type": "markdown",
   "metadata": {},
   "source": [
    "# Analyzing Correlating Factors in Amazon Product Reviews"
   ]
  },
  {
   "cell_type": "code",
   "execution_count": 1,
   "metadata": {
    "collapsed": false
   },
   "outputs": [
    {
     "name": "stderr",
     "output_type": "stream",
     "text": [
      "C:\\Anaconda2\\lib\\site-packages\\sklearn\\cross_validation.py:44: DeprecationWarning: This module was deprecated in version 0.18 in favor of the model_selection module into which all the refactored classes and functions are moved. Also note that the interface of the new CV iterators are different from that of this module. This module will be removed in 0.20.\n",
      "  \"This module will be removed in 0.20.\", DeprecationWarning)\n"
     ]
    }
   ],
   "source": [
    "import pandas\n",
    "import nltk\n",
    "import numpy as np\n",
    "import seaborn as sns\n",
    "import matplotlib.pyplot as plt\n",
    "from scipy import stats\n",
    "from numpy import polyfit\n",
    "import scipy\n",
    "from nltk.sentiment.vader import SentimentIntensityAnalyzer\n",
    "from nltk.corpus import stopwords\n",
    "import os\n",
    "from math import *\n",
    "import math\n",
    "import os.path\n",
    "import sklearn.feature_extraction.text\n",
    "from sklearn.cross_validation import cross_val_score\n",
    "from  sklearn.feature_extraction.text import CountVectorizer\n",
    "from  sklearn.feature_extraction.text import TfidfVectorizer\n",
    "from sklearn.ensemble import RandomForestClassifier\n",
    "from sklearn.metrics.pairwise import cosine_similarity\n",
    "from sklearn.tree import DecisionTreeClassifier\n",
    "import numpy as np\n",
    "import nltk"
   ]
  },
  {
   "cell_type": "code",
   "execution_count": 11,
   "metadata": {
    "collapsed": false
   },
   "outputs": [
    {
     "name": "stdout",
     "output_type": "stream",
     "text": [
      "300000\n"
     ]
    }
   ],
   "source": [
    "df1 = pandas.read_json('Beauty_5.json', lines=True)\n",
    "df2 = pandas.read_json('Clothing_Shoes_and_Jewelry_5.json', lines=True)\n",
    "df3 = pandas.read_json('Video_Games_5.json', lines=True)\n",
    "df = pandas.concat([df1[0:100000],df2[0:100000],               \n",
    "                    df3[0:100000]])\n",
    "\n",
    "print len(df)"
   ]
  },
  {
   "cell_type": "code",
   "execution_count": null,
   "metadata": {
    "collapsed": true
   },
   "outputs": [],
   "source": [
    "#After pre-processing our json we can begin analysis of our factors. \n",
    "#We'll study Helpfullness Rating, ReviewTime, Lexical Diversity, Sentiment and Keywords/Cost\n",
    "#as they correlate to the Reviewer's Product Review Score"
   ]
  },
  {
   "cell_type": "markdown",
   "metadata": {},
   "source": [
    "# Review Score Vs. Helpfulness Rating"
   ]
  },
  {
   "cell_type": "code",
   "execution_count": null,
   "metadata": {
    "collapsed": true
   },
   "outputs": [],
   "source": [
    "#Since the helpfulness rating is a criteria that OTHER consumers guage a review on, the rating can be thought\n",
    "#of as a measure of influence one review has on other consumers' spending choices and product opinions.\n",
    "#Do the the most helpful reviews primarily correlate with positive reviews\n",
    "#or is there an entirely different correlation?"
   ]
  },
  {
   "cell_type": "markdown",
   "metadata": {},
   "source": [
    "## Data Processing Step for Review Score Vs. Helpulness Rating"
   ]
  },
  {
   "cell_type": "code",
   "execution_count": 12,
   "metadata": {
    "collapsed": false
   },
   "outputs": [],
   "source": [
    "desk = pandas.DataFrame()\n",
    "\n",
    "#Now let's also normalize our data to exclude reviews \n",
    "#with 0/0 helpfulness rating  (indicating no helpfulness score has been given)\n",
    "\n",
    "helpfulScoresNormalized = []\n",
    "overallsNormalized = []\n",
    "\n",
    "for a,b in zip( df.helpful, df.overall):\n",
    "    if int(a[1]) != 0:\n",
    "         overallsNormalized.append(int(b))\n",
    "         helpfulScoresNormalized.append( float(a[0])/float(a[1]))\n",
    "             \n",
    "desk['helpfulScoresNormalized'] = np.array(helpfulScoresNormalized)\n",
    "desk['overallsNormalized'] =  np.array(overallsNormalized)\n",
    "desk = desk.sort_values(['helpfulScoresNormalized'], ascending=True)\n",
    "\n",
    "num = 0.0\n",
    "total  = 0\n",
    "cumTot = []\n",
    "for a in desk['overallsNormalized']:\n",
    "    total += a\n",
    "    num += 1.0\n",
    "    cumTot.append(total/num)\n",
    "    \n",
    "desk['cumTot'] = np.array(cumTot)"
   ]
  },
  {
   "cell_type": "markdown",
   "metadata": {},
   "source": [
    "## Dimensionality Reduct-Visualization for Review Score Vs. Helpfulness Rating"
   ]
  },
  {
   "cell_type": "code",
   "execution_count": 18,
   "metadata": {
    "collapsed": false
   },
   "outputs": [
    {
     "data": {
      "image/png": "[encoded data removed]",
      "text/plain": [
       "<matplotlib.figure.Figure at 0xbfcdb1d0>"
      ]
     },
     "metadata": {},
     "output_type": "display_data"
    }
   ],
   "source": [
    "g = sns.jointplot(x=desk['helpfulScoresNormalized'], y=desk['overallsNormalized'], kind=\"kde\", color=\"Blue\")\n",
    "g.fig.suptitle('Dimenionality Plot: Review Score Vs. Helpfulness Rating')\n",
    "g.set_axis_labels(\"Review Total Helpfulness Rating (Percent)\", \"Review Score (out of 5)\")\n",
    "plt.show()\n",
    "g.savefig(\"DSVH.png\")"
   ]
  },
  {
   "cell_type": "markdown",
   "metadata": {},
   "source": [
    "## Linear and Poly Regression for Review Score vs Helpfulness Rating "
   ]
  },
  {
   "cell_type": "code",
   "execution_count": 81,
   "metadata": {
    "collapsed": false
   },
   "outputs": [
    {
     "name": "stdout",
     "output_type": "stream",
     "text": [
      "0.873647519002\n",
      "0.162183104998\n",
      "0.161069445544\n",
      "0.160487898401\n",
      "0.152759258305\n",
      "0.137614912542\n",
      "0.136119121148\n",
      "0.135060792431\n",
      "0.133360376087\n",
      "0.131926451926\n"
     ]
    }
   ],
   "source": [
    "hScores = []\n",
    "for num in range(1,11):\n",
    "   hScores.append((polyfit(desk['helpfulScoresNormalized'], desk['cumTot'] ,num,full=True,cov= True)))\n",
    "\n",
    "for a in hScores:\n",
    "    #print a[1] #gives residuals (sum squared residuals)\n",
    "    #print a[0] gives all coefficients\n",
    "    #print a[1][0]/3000     #average error\n",
    "    #print np.trace( np.asarray(a[1])) #When full=Fals and cov = True, a[1]'s diags give covariance\n",
    "    #print sqrt(np.trace( np.asarray(a[1]))) #When full=Fals and cov = True, sqrt a[1]'s diags give std\n",
    "\n",
    "#print a[1], then  judge residuals, then choose a polynomial size to graph!"
   ]
  },
  {
   "cell_type": "code",
   "execution_count": 74,
   "metadata": {
    "collapsed": false,
    "scrolled": true
   },
   "outputs": [
    {
     "data": {
      "image/png": "[encoded data removed]",
      "text/plain": [
       "<matplotlib.figure.Figure at 0x418e0ac8>"
      ]
     },
     "metadata": {},
     "output_type": "display_data"
    }
   ],
   "source": [
    "xpts = np.linspace(0, 1, 50)\n",
    "plt.plot(desk['helpfulScoresNormalized'], desk['cumTot'] ,'.',label='original data')\n",
    "plt.ylabel('Cumulative Product Rating')\n",
    "plt.xlabel('Helpfulness Scores of Review')\n",
    "plt.title(\" Polyniomial Regression for Rating vs Product Helpfulness Rating\")\n",
    "plt.plot(xpts, np.poly1d((hScores[0][0]))(xpts), '-', label='low polynomial regression')\n",
    "#plt.plot(xpts, highPoly(xpts), '--',label='high polynomial regression')\n",
    "plt.xlim(-.1,1.25)\n",
    "plt.legend()\n",
    "plt.show()"
   ]
  },
  {
   "cell_type": "markdown",
   "metadata": {},
   "source": [
    "# Review Score Vs.Time (Of Posted Review)"
   ]
  },
  {
   "cell_type": "code",
   "execution_count": null,
   "metadata": {
    "collapsed": true
   },
   "outputs": [],
   "source": [
    "#While one may not expect to find any significant correlation between time of posted reviews and review score, there may\n",
    "#be some unexpected correlations between these factors. In technology related products, performance, battery life, durability\n",
    "#and price expectations -and thus reviews for products may change rapidly due to the innovative nature of the tech industry."
   ]
  },
  {
   "cell_type": "markdown",
   "metadata": {},
   "source": [
    "## Data Processing Step for Review Score Vs. Time"
   ]
  },
  {
   "cell_type": "code",
   "execution_count": 105,
   "metadata": {
    "collapsed": false
   },
   "outputs": [],
   "source": [
    "desk = pandas.DataFrame()            \n",
    "desk['unixReviewTime'] = df.unixReviewTime\n",
    "desk['overall'] =  df.overall\n",
    "desk = desk.sort_values(['unixReviewTime'], ascending=True)\n",
    "\n",
    "num = 0.0\n",
    "total  = 0\n",
    "cumTot = []\n",
    "for a in desk['overall']:\n",
    "    total += a\n",
    "    num += 1.0\n",
    "    cumTot.append(total/num)\n",
    "    \n",
    "desk['cumTot'] = np.array(cumTot)"
   ]
  },
  {
   "cell_type": "markdown",
   "metadata": {},
   "source": [
    "## Dimensionality Reduct-Visualization for Review Score Vs. Time"
   ]
  },
  {
   "cell_type": "code",
   "execution_count": 14,
   "metadata": {
    "collapsed": false
   },
   "outputs": [
    {
     "data": {
      "image/png": "[encoded data removed]",
      "text/plain": [
       "<matplotlib.figure.Figure at 0x62c564e0>"
      ]
     },
     "metadata": {},
     "output_type": "display_data"
    }
   ],
   "source": [
    "g = sns.jointplot(x=desk.unixReviewTime[0:stop].as_matrix(), y=desk.overall[0:stop].as_matrix(), kind=\"kde\", color=\"Red\")\n",
    "g.fig.suptitle('Dimenionality Plot: Review Score Vs. Time')\n",
    "g.set_axis_labels(\"Unix Review Time \", \"Review Score (out of 5)\")\n",
    "plt.show()"
   ]
  },
  {
   "cell_type": "markdown",
   "metadata": {},
   "source": [
    "# Linear and Poly Regression for Review Score Vs Time"
   ]
  },
  {
   "cell_type": "code",
   "execution_count": 96,
   "metadata": {
    "collapsed": false
   },
   "outputs": [
    {
     "name": "stdout",
     "output_type": "stream",
     "text": [
      "0.000840302762887\n",
      "0.00401096934392\n",
      "0.0228744698364\n",
      "0.206954640136\n",
      "2.00934382117\n",
      "7.94315625791\n",
      "9.24322229302\n"
     ]
    }
   ],
   "source": [
    "hScores = []\n",
    "for num in range(1,8):\n",
    "   hScores.append((polyfit(desk['unixReviewTime'], desk['cumTot'] ,num,full=True,cov= True)))\n",
    "\n",
    "for a in hScores:\n",
    "    #print a[1][0] #gives residuals (sum squared residuals)\n",
    "    #print a[0] #gives all coefficients\n",
    "    #print a[1][0]/3000     #average error\n",
    "    #print np.trace( np.asarray(a[1])) #When full=False , a[1]'s diags give covariance\n",
    "    #print sqrt(np.trace( np.asarray(a[1]))) #When full=False., sqrt a[1]'s diags give std\n",
    "\n",
    "#print a[1], then  judge residuals, then choose a polynomial size to graph!"
   ]
  },
  {
   "cell_type": "code",
   "execution_count": 17,
   "metadata": {
    "collapsed": false
   },
   "outputs": [
    {
     "data": {
      "image/png": "[encoded data removed]",
      "text/plain": [
       "<matplotlib.figure.Figure at 0x5354a4e0>"
      ]
     },
     "metadata": {},
     "output_type": "display_data"
    }
   ],
   "source": [
    "lowPoly  = np.poly1d(polyfit(desk.unixReviewTime, desk['cumTot'],3 ))\n",
    "#highPoly = np.poly1d(polyfit(desk.unixReviewTime, desk.overall,np.random.randint(10, high=15, dtype=\"I\") ))\n",
    "\n",
    "xpts = np.linspace(min(desk['unixReviewTime'].as_matrix()), max(desk['unixReviewTime'].as_matrix()), 50)\n",
    "plt.plot(desk.unixReviewTime, desk.cumTot,'.',label='original data')\n",
    "plt.plot(xpts, lowPoly(xpts), '-', label='low polynomPoly Regresial regression')\n",
    "#plt.plot(xpts, highPoly(xpts), '--',label='high polynomial regression')\n",
    "plt.legend()\n",
    "\n",
    "plt.show()"
   ]
  },
  {
   "cell_type": "markdown",
   "metadata": {},
   "source": [
    "# Review Score Vs. Keywords Frequency Analysis"
   ]
  },
  {
   "cell_type": "code",
   "execution_count": null,
   "metadata": {
    "collapsed": true
   },
   "outputs": [],
   "source": [
    "#A popular analysis for social media and marketing, our keyword analysis will allow us to discover the top terms in the set our\n",
    "#Amazon reviews. We may expect indicitive words such as cost, cheap, good, bad, etc to be most frequently used in most of\n",
    "#our reviews. After finding the most frequent words,we will then analyze\n",
    "#correlations between review scores and reviews that freuently use our trend-words/keywords. \n",
    "\n",
    "#In a real world application, one might want to analyze review score Vs. Trend for one one word at a time \n",
    "#(or use their own set of simularly related keywords) to get a more zoomed in look at how a \n",
    "#topic or trend influences review score"
   ]
  },
  {
   "cell_type": "markdown",
   "metadata": {},
   "source": [
    "## Processing Keywords and Frequency"
   ]
  },
  {
   "cell_type": "code",
   "execution_count": 111,
   "metadata": {
    "collapsed": false
   },
   "outputs": [],
   "source": [
    "#desk = pandas.DataFrame()\n",
    "#top = ['cost','low','high','cheap','expensive','worth','value','money','deal']\n",
    "\n",
    "#counts = []\n",
    "#for a,c in zip(df.reviewText , df.overall) :\n",
    "#    ct = 0 \n",
    "#    sent = a.split()\n",
    "#    for b in sent:\n",
    "#        if b in top:\n",
    "#            ct += 1\n",
    "#    counts.append(ct)     \n",
    "#print len(counts)   \n",
    "#desk['counts']   = np.array(counts)\n",
    "#desk['overall'] =  df.overall\n",
    "\n",
    "desk = desk.sort_values(['counts'], ascending=True)\n",
    "\n",
    "num = 0.0\n",
    "total  = 0\n",
    "cumTot = []\n",
    "for a in desk['overall']:\n",
    "    total += a\n",
    "    num += 1.0\n",
    "    cumTot.append(total/num)\n",
    "desk['cumTot'] = np.array(cumTot)"
   ]
  },
  {
   "cell_type": "markdown",
   "metadata": {},
   "source": [
    "## Dimensionality Reduct-Visualization for Review Score Vs. Keyword Frequency"
   ]
  },
  {
   "cell_type": "code",
   "execution_count": null,
   "metadata": {
    "collapsed": false
   },
   "outputs": [],
   "source": [
    "#Normalized to show how people who did use the words rate the product\n",
    "\n",
    "g = sns.jointplot(x=desk['counts'] , y=desk['overalls'], kind=\"kde\", color=\"Blue\")\n",
    "g.plot_joint(plt.scatter, c=\"r\", s=30, linewidth=1, marker=\"+\")\n",
    "g.ax_joint.collections[0].set_alpha(0)\n",
    "g.set_axis_labels(\"Number of Keywords Used in Review \", \"Review Score (out of 5)\")\n",
    "sns.rugplot(desk['counts'] , color=\"r\", ax=g.ax_joint)\n",
    "sns.rugplot(desk['overalls'], vertical=True, ax=g.ax_joint)\n",
    "\n",
    "plt.show()\n"
   ]
  },
  {
   "cell_type": "markdown",
   "metadata": {},
   "source": [
    "## Linear and Poly Regression for Review Score  vs Keword Frequency"
   ]
  },
  {
   "cell_type": "code",
   "execution_count": 97,
   "metadata": {
    "collapsed": false
   },
   "outputs": [
    {
     "name": "stdout",
     "output_type": "stream",
     "text": [
      "461.699673487\n",
      "90.9553046553\n",
      "27.3483884991\n",
      "22.8939927191\n",
      "20.876774813\n",
      "20.1660998086\n",
      "11.0631593826\n"
     ]
    }
   ],
   "source": [
    "hScores = []\n",
    "for num in range(1,8):\n",
    "   hScores.append((polyfit(desk['counts'], desk['cumTot'] ,num,full=True,cov= True)))\n",
    "\n",
    "for a in hScores:\n",
    "    print a[1][0] #gives residuals (sum squared residuals)\n",
    "    #print a[0] #gives all coefficients\n",
    "    #print a[1][0]/3000     #average error\n",
    "    #print np.trace( np.asarray(a[1])) #When full=False , a[1]'s diags give covariance\n",
    "    #print sqrt(np.trace( np.asarray(a[1]))) #When full=False., sqrt a[1]'s diags give std\n",
    "\n",
    "#print a[1], then  judge residuals, then choose a polynomial size to graph!"
   ]
  },
  {
   "cell_type": "code",
   "execution_count": null,
   "metadata": {
    "collapsed": false
   },
   "outputs": [],
   "source": [
    "lowPoly  = np.poly1d(polyfit(desk['counts'],desk['cumTot'] ,np.random.randint(2, high=10, dtype=\"I\") ))\n",
    "highPoly = np.poly1d(polyfit(desk['counts'],desk['cumTot'] ,np.random.randint(10, high=15, dtype=\"I\") ))\n",
    "\n",
    "\n",
    "xpts = np.linspace(0, 40, 100)\n",
    "plt.plot(desk['counts'], desk['cumTot'] ,'.',label='original data')\n",
    "plt.plot(xpts, lowPoly(xpts), '-', label='low polynomial regression')\n",
    "plt.plot(xpts, highPoly(xpts), '--',label='high polynomial regression')\n",
    "plt.legend()\n",
    "plt.ylim(0,6)\n",
    "plt.show()"
   ]
  },
  {
   "cell_type": "markdown",
   "metadata": {},
   "source": [
    "# Review Score Vs Lexical Diversity"
   ]
  },
  {
   "cell_type": "code",
   "execution_count": null,
   "metadata": {
    "collapsed": true
   },
   "outputs": [],
   "source": [
    "#Are more articulate reviews associated with better or worse ratings? If a product has specific criticisms, maybe more reviewers\n",
    "#are willing to articulate on those issues and good product reviews are shorter. Maybe vice versa?"
   ]
  },
  {
   "cell_type": "markdown",
   "metadata": {},
   "source": [
    "## Processing Lexical Diversity"
   ]
  },
  {
   "cell_type": "code",
   "execution_count": 127,
   "metadata": {
    "collapsed": false
   },
   "outputs": [],
   "source": [
    "'''\n",
    "desk = pandas.DataFrame()\n",
    "def lexical_diversity(text):\n",
    "    return len(set(text)) / ((len(text))*1.0)\n",
    "\n",
    "divRates = []\n",
    " \n",
    "for a in df.reviewText:\n",
    "    if len(a) <= 0 :\n",
    "        divRates.append(0)\n",
    "    else:\n",
    "        divRates.append(lexical_diversity(a))\n",
    "'''\n",
    "\n",
    "#desk['overall'] =  df.overall\n",
    "desk = pandas.DataFrame()            \n",
    "#desk['unixReviewTime'] = df.unixReviewTime\n",
    "desk['overall'] =  df.overall\n",
    "desk['divRates'] = np.array(divRates)\n",
    "\n",
    "desk = desk.sort_values(['divRates'], ascending=True)\n",
    "\n",
    "num = 0.0\n",
    "total  = 0\n",
    "cumTot = []\n",
    "for a in desk['overall']:\n",
    "    total += a\n",
    "    num += 1.0\n",
    "    cumTot.append(total/num)\n",
    "    \n",
    "desk['cumTot'] = np.array(cumTot)"
   ]
  },
  {
   "cell_type": "markdown",
   "metadata": {},
   "source": [
    "## Dimensionality Reduct-Visualization for Review Score Vs. Lexical Diveristy"
   ]
  },
  {
   "cell_type": "code",
   "execution_count": null,
   "metadata": {
    "collapsed": false
   },
   "outputs": [],
   "source": [
    "g = sns.jointplot(x=desk['divRates'], y=desk['overall'] , kind=\"kde\", color=\"Green\")\n",
    "g.plot_joint(plt.scatter, c=\"y\", s=30, linewidth=1, marker=\".\")\n",
    "g.ax_joint.collections[0].set_alpha(0)\n",
    "g.set_axis_labels(\"Lexical Diversity Score\",\"Review Score (out of 5)\")\n",
    "sns.rugplot(desk['divRates'], color=\"red\", ax=g.ax_joint)\n",
    "sns.rugplot(desk['overalls'] , vertical=True, ax=g.ax_joint)\n",
    "\n",
    "plt.show()"
   ]
  },
  {
   "cell_type": "markdown",
   "metadata": {},
   "source": [
    "## Linear and Poly Regression for Review Score Vs. Lexical Diversity"
   ]
  },
  {
   "cell_type": "code",
   "execution_count": 134,
   "metadata": {
    "collapsed": false
   },
   "outputs": [
    {
     "name": "stdout",
     "output_type": "stream",
     "text": [
      "0.000423769907671\n",
      "0.000986110583869\n",
      "0.00566710045521\n",
      "0.0223374436631\n",
      "0.111167098494\n",
      "0.62663737481\n",
      "3.50616297771\n",
      "21.0146595422\n",
      "125.441181589\n",
      "754.265578916\n"
     ]
    }
   ],
   "source": [
    "hScores = []\n",
    "for num in range(1,11):\n",
    "   hScores.append((polyfit(desk['divRates'], desk['cumTot'] ,num,full=False,cov= True)))\n",
    "\n",
    "for a in hScores:\n",
    "    #print a[1][0] #gives residuals (sum squared residuals)\n",
    "    #print a[0] #gives all coefficients\n",
    "    #print a[1][0]/3000     #average error\n",
    "    #print np.trace( np.asarray(a[1])) #When full=False , a[1]'s diags give covariance\n",
    "    print sqrt(np.trace( np.asarray(a[1]))) #When full=False., sqrt a[1]'s diags give std\n",
    "\n",
    "#print a[1], then  judge residuals, then choose a polynomial size to graph!"
   ]
  },
  {
   "cell_type": "code",
   "execution_count": null,
   "metadata": {
    "collapsed": false
   },
   "outputs": [],
   "source": [
    "lowPoly  = np.poly1d(polyfit(desk['divRates'], desk['cumTot'],np.random.randint(2, high=10, dtype=\"I\") ))\n",
    "highPoly = np.poly1d(polyfit(desk['divRates'], desk['cumTot'],np.random.randint(10, high=13, dtype=\"I\") ))\n",
    "\n",
    "\n",
    "xpts = np.linspace(min(desk['divRates'].as_matrix()), max(desk['divRates'].as_matrix()), 50)\n",
    "plt.plot(desk['divRates'], desk['cumTot'],'.',label='original data')\n",
    "plt.plot(xpts, lowPoly(xpts), '-', label='low polynomial regression')\n",
    "plt.plot(xpts, highPoly(xpts), '--',label='high polynomial regression')\n",
    "plt.legend()\n",
    "plt.ylim(0,6)\n",
    "plt.show()"
   ]
  },
  {
   "cell_type": "markdown",
   "metadata": {},
   "source": [
    "# Review Score Vs Sentiment Analysis"
   ]
  },
  {
   "cell_type": "code",
   "execution_count": null,
   "metadata": {
    "collapsed": true
   },
   "outputs": [],
   "source": [
    "#Are higher rated reviewers more critical of products? Perhaps this is a stronger trend with 4 Star reviews?"
   ]
  },
  {
   "cell_type": "code",
   "execution_count": 137,
   "metadata": {
    "collapsed": false
   },
   "outputs": [
    {
     "name": "stdout",
     "output_type": "stream",
     "text": [
      "24248\n"
     ]
    }
   ],
   "source": [
    "print len (sentiment)"
   ]
  },
  {
   "cell_type": "markdown",
   "metadata": {},
   "source": [
    "## Data Processsing For Sentiment Analysis"
   ]
  },
  {
   "cell_type": "code",
   "execution_count": 136,
   "metadata": {
    "collapsed": false
   },
   "outputs": [
    {
     "ename": "KeyboardInterrupt",
     "evalue": "",
     "output_type": "error",
     "traceback": [
      "\u001b[0;31m---------------------------------------------------------------------------\u001b[0m",
      "\u001b[0;31mKeyboardInterrupt\u001b[0m                         Traceback (most recent call last)",
      "\u001b[0;32m<ipython-input-136-2347c9d3ffa9>\u001b[0m in \u001b[0;36m<module>\u001b[0;34m()\u001b[0m\n\u001b[1;32m      3\u001b[0m \u001b[1;33m\u001b[0m\u001b[0m\n\u001b[1;32m      4\u001b[0m \u001b[1;32mfor\u001b[0m \u001b[0ma\u001b[0m \u001b[1;32min\u001b[0m \u001b[0mdf\u001b[0m\u001b[1;33m.\u001b[0m\u001b[0mreviewText\u001b[0m\u001b[1;33m:\u001b[0m\u001b[1;33m\u001b[0m\u001b[0m\n\u001b[0;32m----> 5\u001b[0;31m     \u001b[0msid\u001b[0m \u001b[1;33m=\u001b[0m \u001b[0mSentimentIntensityAnalyzer\u001b[0m\u001b[1;33m(\u001b[0m\u001b[1;33m)\u001b[0m\u001b[1;33m\u001b[0m\u001b[0m\n\u001b[0m\u001b[1;32m      6\u001b[0m     \u001b[0mss\u001b[0m \u001b[1;33m=\u001b[0m \u001b[0msid\u001b[0m\u001b[1;33m.\u001b[0m\u001b[0mpolarity_scores\u001b[0m\u001b[1;33m(\u001b[0m\u001b[0ma\u001b[0m\u001b[1;33m)\u001b[0m\u001b[1;33m\u001b[0m\u001b[0m\n\u001b[1;32m      7\u001b[0m     \u001b[0msentiment\u001b[0m\u001b[1;33m.\u001b[0m\u001b[0mappend\u001b[0m\u001b[1;33m(\u001b[0m\u001b[0mss\u001b[0m\u001b[1;33m[\u001b[0m\u001b[1;34m'compound'\u001b[0m\u001b[1;33m]\u001b[0m\u001b[1;33m)\u001b[0m\u001b[1;33m\u001b[0m\u001b[0m\n",
      "\u001b[0;32mC:\\Anaconda2\\lib\\site-packages\\nltk\\sentiment\\vader.pyc\u001b[0m in \u001b[0;36m__init__\u001b[0;34m(self, lexicon_file)\u001b[0m\n\u001b[1;32m    203\u001b[0m     \u001b[1;32mdef\u001b[0m \u001b[0m__init__\u001b[0m\u001b[1;33m(\u001b[0m\u001b[0mself\u001b[0m\u001b[1;33m,\u001b[0m \u001b[0mlexicon_file\u001b[0m\u001b[1;33m=\u001b[0m\u001b[1;34m\"sentiment/vader_lexicon.zip/vader_lexicon/vader_lexicon.txt\"\u001b[0m\u001b[1;33m)\u001b[0m\u001b[1;33m:\u001b[0m\u001b[1;33m\u001b[0m\u001b[0m\n\u001b[1;32m    204\u001b[0m         \u001b[0mself\u001b[0m\u001b[1;33m.\u001b[0m\u001b[0mlexicon_file\u001b[0m \u001b[1;33m=\u001b[0m \u001b[0mnltk\u001b[0m\u001b[1;33m.\u001b[0m\u001b[0mdata\u001b[0m\u001b[1;33m.\u001b[0m\u001b[0mload\u001b[0m\u001b[1;33m(\u001b[0m\u001b[0mlexicon_file\u001b[0m\u001b[1;33m)\u001b[0m\u001b[1;33m\u001b[0m\u001b[0m\n\u001b[0;32m--> 205\u001b[0;31m         \u001b[0mself\u001b[0m\u001b[1;33m.\u001b[0m\u001b[0mlexicon\u001b[0m \u001b[1;33m=\u001b[0m \u001b[0mself\u001b[0m\u001b[1;33m.\u001b[0m\u001b[0mmake_lex_dict\u001b[0m\u001b[1;33m(\u001b[0m\u001b[1;33m)\u001b[0m\u001b[1;33m\u001b[0m\u001b[0m\n\u001b[0m\u001b[1;32m    206\u001b[0m \u001b[1;33m\u001b[0m\u001b[0m\n\u001b[1;32m    207\u001b[0m     \u001b[1;32mdef\u001b[0m \u001b[0mmake_lex_dict\u001b[0m\u001b[1;33m(\u001b[0m\u001b[0mself\u001b[0m\u001b[1;33m)\u001b[0m\u001b[1;33m:\u001b[0m\u001b[1;33m\u001b[0m\u001b[0m\n",
      "\u001b[0;32mC:\\Anaconda2\\lib\\site-packages\\nltk\\sentiment\\vader.pyc\u001b[0m in \u001b[0;36mmake_lex_dict\u001b[0;34m(self)\u001b[0m\n\u001b[1;32m    211\u001b[0m         \u001b[0mlex_dict\u001b[0m \u001b[1;33m=\u001b[0m \u001b[1;33m{\u001b[0m\u001b[1;33m}\u001b[0m\u001b[1;33m\u001b[0m\u001b[0m\n\u001b[1;32m    212\u001b[0m         \u001b[1;32mfor\u001b[0m \u001b[0mline\u001b[0m \u001b[1;32min\u001b[0m \u001b[0mself\u001b[0m\u001b[1;33m.\u001b[0m\u001b[0mlexicon_file\u001b[0m\u001b[1;33m.\u001b[0m\u001b[0msplit\u001b[0m\u001b[1;33m(\u001b[0m\u001b[1;34m'\\n'\u001b[0m\u001b[1;33m)\u001b[0m\u001b[1;33m:\u001b[0m\u001b[1;33m\u001b[0m\u001b[0m\n\u001b[0;32m--> 213\u001b[0;31m             \u001b[1;33m(\u001b[0m\u001b[0mword\u001b[0m\u001b[1;33m,\u001b[0m \u001b[0mmeasure\u001b[0m\u001b[1;33m)\u001b[0m \u001b[1;33m=\u001b[0m \u001b[0mline\u001b[0m\u001b[1;33m.\u001b[0m\u001b[0mstrip\u001b[0m\u001b[1;33m(\u001b[0m\u001b[1;33m)\u001b[0m\u001b[1;33m.\u001b[0m\u001b[0msplit\u001b[0m\u001b[1;33m(\u001b[0m\u001b[1;34m'\\t'\u001b[0m\u001b[1;33m)\u001b[0m\u001b[1;33m[\u001b[0m\u001b[1;36m0\u001b[0m\u001b[1;33m:\u001b[0m\u001b[1;36m2\u001b[0m\u001b[1;33m]\u001b[0m\u001b[1;33m\u001b[0m\u001b[0m\n\u001b[0m\u001b[1;32m    214\u001b[0m             \u001b[0mlex_dict\u001b[0m\u001b[1;33m[\u001b[0m\u001b[0mword\u001b[0m\u001b[1;33m]\u001b[0m \u001b[1;33m=\u001b[0m \u001b[0mfloat\u001b[0m\u001b[1;33m(\u001b[0m\u001b[0mmeasure\u001b[0m\u001b[1;33m)\u001b[0m\u001b[1;33m\u001b[0m\u001b[0m\n\u001b[1;32m    215\u001b[0m         \u001b[1;32mreturn\u001b[0m \u001b[0mlex_dict\u001b[0m\u001b[1;33m\u001b[0m\u001b[0m\n",
      "\u001b[0;31mKeyboardInterrupt\u001b[0m: "
     ]
    }
   ],
   "source": [
    "desk = pandas.DataFrame()\n",
    "sentiment = []\n",
    "\n",
    "for a in df.reviewText:\n",
    "    sid = SentimentIntensityAnalyzer()\n",
    "    ss = sid.polarity_scores(a)\n",
    "    sentiment.append(ss['compound'])\n",
    "\n",
    "desk['sentiment'] = np.array(sentiment) \n",
    "desk['overall'] =  df.overall\n",
    "\n",
    "\n",
    "desk = desk.sort_values(['sentiment'], ascending=True)\n",
    "\n",
    "num = 0.0\n",
    "total  = 0\n",
    "cumTot = []\n",
    "for a in desk['overall']:\n",
    "    total += a\n",
    "    num += 1.0\n",
    "    cumTot.append(total/num)\n",
    "desk['cumTot'] = cumTot"
   ]
  },
  {
   "cell_type": "markdown",
   "metadata": {},
   "source": [
    "## Dimensionality Reduct-Visualization for Review Scores Vs. Sentiment Analysis"
   ]
  },
  {
   "cell_type": "code",
   "execution_count": null,
   "metadata": {
    "collapsed": false
   },
   "outputs": [],
   "source": [
    "g = sns.jointplot(x=desk['sentiment'], y=desk['overalls'] , kind=\"kde\", color=\"Green\")\n",
    "g.plot_joint(plt.scatter, c=\"b\", s=30, linewidth=1, marker=\".\")\n",
    "g.ax_joint.collections[0].set_alpha(0)\n",
    "g.set_axis_labels(\"Composite Sentiment Analysis Score \",\"Review Score (out of 5)\")\n",
    "sns.rugplot(desk['sentiment'], color=\"g\", ax=g.ax_joint)\n",
    "sns.rugplot(desk['overalls'], vertical=True, ax=g.ax_joint)\n",
    "\n",
    "plt.show()"
   ]
  },
  {
   "cell_type": "markdown",
   "metadata": {},
   "source": [
    "## Linear and Poly Regression for Review Score Vs. Sentiment Analysis"
   ]
  },
  {
   "cell_type": "code",
   "execution_count": null,
   "metadata": {
    "collapsed": true
   },
   "outputs": [],
   "source": [
    "for a in hScores:\n",
    "    #print a[1][0] #gives residuals (sum squared residuals)\n",
    "    #print a[0] #gives all coefficients\n",
    "    #print a[1][0]/3000     #average error\n",
    "    #print np.trace( np.asarray(a[1])) #When full=False , a[1]'s diags give covariance\n",
    "    print sqrt(np.trace( np.asarray(a[1]))) #When full=False., sqrt a[1]'s diags give std\n",
    "\n",
    "#print a[1], then  judge residuals, then choose a polynomial size to graph!"
   ]
  },
  {
   "cell_type": "code",
   "execution_count": null,
   "metadata": {
    "collapsed": false
   },
   "outputs": [],
   "source": [
    "lowPoly  = np.poly1d(polyfit(desk['sentiment'], desk['cumTot'],np.random.randint(2, high=10, dtype=\"I\") ))\n",
    "highPoly = np.poly1d(polyfit(desk['sentiment'], desk['cumTot'],np.random.randint(10, high=13, dtype=\"I\") ))\n",
    "\n",
    "hScores = []\n",
    "for num in range(1,11):\n",
    "   hScores.append((polyfit(desk['divRates'], desk['cumTot'] ,num,full=False,cov= True)))\n",
    "\n",
    "\n",
    "xpts = np.linspace(min(desk['sentiment'].as_matrix()), max(desk['sentiment'].as_matrix()), 50)\n",
    "plt.plot(desk['sentiment'], desk['cumTot'],'.',label='original data')\n",
    "plt.plot(xpts, lowPoly(xpts), '-', label='low polynomial regression')\n",
    "plt.plot(xpts, highPoly(xpts), '--',label='high polynomial regression')\n",
    "plt.legend()\n",
    "#plt.ylim(0,6)\n",
    "plt.show()"
   ]
  }
 ],
 "metadata": {
  "anaconda-cloud": {},
  "kernelspec": {
   "display_name": "Python 2",
   "language": "python",
   "name": "python2"
  },
  "language_info": {
   "codemirror_mode": {
    "name": "ipython",
    "version": 2
   },
   "file_extension": ".py",
   "mimetype": "text/x-python",
   "name": "python",
   "nbconvert_exporter": "python",
   "pygments_lexer": "ipython2",
   "version": "2.7.13"
  }
 },
 "nbformat": 4,
 "nbformat_minor": 1
}
